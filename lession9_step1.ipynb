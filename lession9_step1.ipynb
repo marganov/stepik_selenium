{
 "cells": [
  {
   "cell_type": "markdown",
   "metadata": {},
   "source": [
    "* составные сообщения об ошибках"
   ]
  },
  {
   "cell_type": "code",
   "execution_count": null,
   "metadata": {},
   "outputs": [],
   "source": [
    "def test_input_text(expected_result, actual_result):\n",
    "    \n",
    "    assert expected_result == actual_result, \\\n",
    "        f\"expected {expected_result}, got {actual_result}\""
   ]
  },
  {
   "cell_type": "markdown",
   "metadata": {},
   "source": [
    "* составные сообщения об ошибках и поиск подстроки"
   ]
  },
  {
   "cell_type": "code",
   "execution_count": 1,
   "metadata": {},
   "outputs": [
    {
     "name": "stdout",
     "output_type": "stream",
     "text": [
      "Substring found\n",
      "Substring found at index 3\n"
     ]
    }
   ],
   "source": [
    "s = 'My Name is Julia'\n",
    "\n",
    "if 'Name' in s:\n",
    "    print('Substring found')\n",
    "\n",
    "index = s.find('Name')\n",
    "if index != -1:\n",
    "    print(f'Substring found at index {index}')"
   ]
  },
  {
   "cell_type": "markdown",
   "metadata": {},
   "source": [
    "* использование `in` (вернет `True` / `False`) или `find` (вернет индекс первого вхождение или -1, если не найдено)"
   ]
  },
  {
   "cell_type": "code",
   "execution_count": 2,
   "metadata": {},
   "outputs": [
    {
     "name": "stdout",
     "output_type": "stream",
     "text": [
      "Substring found\n",
      "Substring found at index 3\n"
     ]
    }
   ],
   "source": [
    "\n",
    "s = 'My Name is Julia'\n",
    "\n",
    "if 'Name' in s:\n",
    "    print('Substring found')\n",
    "\n",
    "index = s.find('Name')\n",
    "if index != -1:\n",
    "    print(f'Substring found at index {index}')"
   ]
  },
  {
   "cell_type": "code",
   "execution_count": 3,
   "metadata": {},
   "outputs": [],
   "source": [
    "def test_substring(full_string, substring):\n",
    "    # ваша реализация, напишите assert и сообщение об ошибке\n",
    "    assert substring in full_string, \\\n",
    "    f\"expected '{substring}' to be substring of '{full_string}'\"\n"
   ]
  }
 ],
 "metadata": {
  "kernelspec": {
   "display_name": "Python 3",
   "language": "python",
   "name": "python3"
  },
  "language_info": {
   "codemirror_mode": {
    "name": "ipython",
    "version": 3
   },
   "file_extension": ".py",
   "mimetype": "text/x-python",
   "name": "python",
   "nbconvert_exporter": "python",
   "pygments_lexer": "ipython3",
   "version": "3.13.0"
  }
 },
 "nbformat": 4,
 "nbformat_minor": 2
}
