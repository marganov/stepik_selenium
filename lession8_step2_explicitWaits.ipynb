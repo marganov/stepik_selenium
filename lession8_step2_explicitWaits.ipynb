{
 "cells": [
  {
   "cell_type": "code",
   "execution_count": 1,
   "metadata": {},
   "outputs": [],
   "source": [
    "from selenium import webdriver\n",
    "from selenium.webdriver.common.by import By"
   ]
  },
  {
   "cell_type": "markdown",
   "metadata": {},
   "source": [
    "Если мы хотим в тесте кликнуть на кнопку, а она в этот момент неактивна, то WebDriver все равно проэмулирует действие нажатия на кнопку, но данные не будут отправлены."
   ]
  },
  {
   "cell_type": "code",
   "execution_count": null,
   "metadata": {},
   "outputs": [],
   "source": [
    "\n",
    "browser = webdriver.Chrome()\n",
    "# говорим WebDriver ждать все элементы в течение 5 секунд\n",
    "browser.implicitly_wait(5)\n",
    "\n",
    "browser.get(\"http://suninjuly.github.io/wait2.html\")\n",
    "\n",
    "button = browser.find_element(By.ID, \"verify\")\n",
    "button.click()\n",
    "message = browser.find_element(By.ID, \"verify_message\")\n",
    "\n",
    "assert \"successful\" in message.text\n",
    "\n",
    "browser.quit()"
   ]
  },
  {
   "cell_type": "markdown",
   "metadata": {},
   "source": [
    "Чтобы тест был надежным, нам нужно не только найти кнопку на странице, но и дождаться, когда кнопка станет кликабельной. \n",
    "\n",
    "Explicit Waits позволяют задать специальное ожидание для конкретного элемента. Задание явных ожиданий реализуется с помощью инструментов WebDriverWait и expected_conditions. "
   ]
  },
  {
   "cell_type": "code",
   "execution_count": 2,
   "metadata": {},
   "outputs": [],
   "source": [
    "from selenium.webdriver.common.by import By\n",
    "from selenium.webdriver.support.ui import WebDriverWait\n",
    "from selenium.webdriver.support import expected_conditions as EC\n",
    "from selenium import webdriver\n",
    "\n",
    "browser = webdriver.Chrome()\n",
    "\n",
    "browser.get(\"http://suninjuly.github.io/wait2.html\")\n",
    "\n",
    "# говорим Selenium проверять в течение 5 секунд, пока кнопка не станет кликабельной\n",
    "button = WebDriverWait(browser, 5).until(\n",
    "        EC.element_to_be_clickable((By.ID, \"verify\"))\n",
    "    )\n",
    "button.click()\n",
    "message = browser.find_element(By.ID, \"verify_message\")\n",
    "\n",
    "assert \"successful\" in message.text\n",
    "\n",
    "browser.quit()"
   ]
  },
  {
   "cell_type": "markdown",
   "metadata": {},
   "source": [
    "Если мы захотим проверять, что кнопка становится неактивной после отправки данных, то можно задать негативное правило с помощью метода until_not:\n"
   ]
  },
  {
   "cell_type": "code",
   "execution_count": null,
   "metadata": {},
   "outputs": [],
   "source": [
    "\n",
    "# говорим Selenium проверять в течение 5 секунд пока кнопка станет неактивной\n",
    "button = WebDriverWait(browser, 5).until_not(\n",
    "        EC.element_to_be_clickable((By.ID, \"verify\"))\n",
    "    )"
   ]
  }
 ],
 "metadata": {
  "kernelspec": {
   "display_name": "Python 3",
   "language": "python",
   "name": "python3"
  },
  "language_info": {
   "codemirror_mode": {
    "name": "ipython",
    "version": 3
   },
   "file_extension": ".py",
   "mimetype": "text/x-python",
   "name": "python",
   "nbconvert_exporter": "python",
   "pygments_lexer": "ipython3",
   "version": "3.13.0"
  }
 },
 "nbformat": 4,
 "nbformat_minor": 2
}
